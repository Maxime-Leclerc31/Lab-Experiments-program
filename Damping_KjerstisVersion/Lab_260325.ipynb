{
 "cells": [
  {
   "cell_type": "markdown",
   "metadata": {},
   "source": [
    "Code for finding damping of surface waves, experiments conducted 26.03.25. See: https://docs.google.com/document/d/1XbN39MnCO8LLxHQggMc_9GKM4Xrf986bgcMyIGY5DgE/edit?usp=share_link for report. "
   ]
  },
  {
   "cell_type": "code",
   "execution_count": 3,
   "metadata": {},
   "outputs": [],
   "source": [
    "import matplotlib.pyplot as plt\n",
    "import numpy as np\n",
    "import pandas as pd"
   ]
  },
  {
   "cell_type": "code",
   "execution_count": null,
   "metadata": {},
   "outputs": [],
   "source": [
    "\"\"\" # Reading in the data\n",
    "df_f1 = pd.read_csv()\n",
    "df_f07 = pd.read_csv()\n",
    "df_f05 = pd.read_csv() \"\"\""
   ]
  },
  {
   "cell_type": "code",
   "execution_count": 4,
   "metadata": {},
   "outputs": [],
   "source": [
    "# Constants\n",
    "g = 9.81\n",
    "rho = 1000  # water density\n",
    "nu = 10e-6  # water viscosity\n",
    "H0 = 0.4  # water depth before beach\n",
    "H1 = 0.2  # water depth over beach"
   ]
  },
  {
   "cell_type": "code",
   "execution_count": 5,
   "metadata": {},
   "outputs": [],
   "source": [
    "# Phase and group velocity, shallow water waves\n",
    "\n",
    "c0 = np.sqrt(g*H0)  # wave velocity before beach\n",
    "c1 = np.sqrt(g*H1)  # wave velocity over beach"
   ]
  },
  {
   "cell_type": "markdown",
   "metadata": {},
   "source": [
    "Amplitude of wave at x meters after start of beach: \n",
    "\n",
    "$A = A_0 exp(-\\alpha x)$\n",
    "\n",
    "where $A_0$ is the amplitude at $x=0$, meaning the beginning of the beach. \n",
    "\n",
    "Thus, the wave damping is:\n",
    "$\\alpha = \\frac{ln(A_0) - ln(A(x_1))}{x_1 - x_0}$"
   ]
  },
  {
   "cell_type": "code",
   "execution_count": 6,
   "metadata": {},
   "outputs": [],
   "source": [
    "def alpha_damp(A0, A1, x0, x1):\n",
    "    alpha = (np.log(A0) - np.log(A1))/(x1 - x0)\n",
    "    return alpha"
   ]
  },
  {
   "cell_type": "code",
   "execution_count": null,
   "metadata": {},
   "outputs": [],
   "source": []
  }
 ],
 "metadata": {
  "kernelspec": {
   "display_name": "masters",
   "language": "python",
   "name": "python3"
  },
  "language_info": {
   "codemirror_mode": {
    "name": "ipython",
    "version": 3
   },
   "file_extension": ".py",
   "mimetype": "text/x-python",
   "name": "python",
   "nbconvert_exporter": "python",
   "pygments_lexer": "ipython3",
   "version": "3.12.4"
  }
 },
 "nbformat": 4,
 "nbformat_minor": 2
}
